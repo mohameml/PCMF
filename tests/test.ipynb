{
 "cells": [
  {
   "cell_type": "markdown",
   "metadata": {},
   "source": [
    "## Test :\n"
   ]
  },
  {
   "cell_type": "code",
   "execution_count": null,
   "metadata": {
    "vscode": {
     "languageId": "plaintext"
    }
   },
   "outputs": [],
   "source": [
    "import pandas as pd\n",
    "import matplotlib.pyplot as plt\n",
    "\n",
    "# Charger les fichiers JSON\n",
    "file1 = 'fichier1.json'  # Remplacez par le chemin de votre premier fichier\n",
    "file2 = 'fichier2.json'  # Remplacez par le chemin de votre second fichier\n",
    "\n",
    "data1 = pd.read_json(file1)\n",
    "data2 = pd.read_json(file2)\n",
    "\n",
    "# Extraire les dates et les prix\n",
    "data1_sorted = data1.sort_values(by=\"date\")\n",
    "data2_sorted = data2.sort_values(by=\"date\")\n",
    "\n",
    "data1_sorted['date'] = pd.to_datetime(data1_sorted['date'])\n",
    "data2_sorted['date'] = pd.to_datetime(data2_sorted['date'])\n",
    "\n",
    "# Vérifier l'intersection des dates communes\n",
    "common_dates = pd.merge(data1_sorted[['date', 'price']], data2_sorted[['date', 'price']], on='date', suffixes=('_file1', '_file2'))\n",
    "\n",
    "# Tracer les données\n",
    "plt.figure(figsize=(12, 6))\n",
    "plt.plot(common_dates['date'], common_dates['price_file1'], label='Fichier 1 - Price', marker='o')\n",
    "plt.plot(common_dates['date'], common_dates['price_file2'], label='Fichier 2 - Price', marker='s')\n",
    "\n",
    "# Personnalisation du graphique\n",
    "plt.title('Comparaison des prix entre deux fichiers JSON')\n",
    "plt.xlabel('Date')\n",
    "plt.ylabel('Price')\n",
    "plt.legend()\n",
    "plt.grid(True)\n",
    "plt.xticks(rotation=45)\n",
    "\n",
    "# Afficher le graphique\n",
    "plt.tight_layout()\n",
    "plt.show()\n"
   ]
  }
 ],
 "metadata": {
  "language_info": {
   "name": "python"
  }
 },
 "nbformat": 4,
 "nbformat_minor": 2
}
